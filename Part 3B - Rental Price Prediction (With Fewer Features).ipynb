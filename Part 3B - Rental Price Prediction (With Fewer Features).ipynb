{
 "cells": [
  {
   "cell_type": "markdown",
   "metadata": {},
   "source": [
    "# Part 3B - Rental Price Prediction (With Fewer Features)\n",
    "\n",
    "### Content  \n",
    "- [Section 1 - Data Pre-processing](#section-1)   \n",
    "- [Section 2 - Modeling - XGBoost Regressor](#section-2)  \n",
    "- [Section 3 - Modeling - LightGBM Regressor](#section-3)  "
   ]
  },
  {
   "cell_type": "markdown",
   "metadata": {},
   "source": [
    "Exclude AMENITIES, and also testing on XGBoost and LightGBM only"
   ]
  },
  {
   "cell_type": "code",
   "execution_count": 1,
   "metadata": {},
   "outputs": [],
   "source": [
    "import numpy as np\n",
    "import pandas as pd\n",
    "import matplotlib.pyplot as plt\n",
    "import seaborn as sns\n",
    "\n",
    "from collections import Counter\n",
    "\n",
    "from sklearn.preprocessing import StandardScaler\n",
    "from sklearn import metrics\n",
    "from sklearn.linear_model import LinearRegression\n",
    "from sklearn.model_selection import train_test_split, RandomizedSearchCV, GridSearchCV\n",
    "from sklearn.ensemble import RandomForestRegressor\n",
    "\n",
    "import xgboost as xgb\n",
    "import lightgbm as lgb\n",
    "from catboost import Pool, CatBoostRegressor"
   ]
  },
  {
   "cell_type": "code",
   "execution_count": 2,
   "metadata": {},
   "outputs": [],
   "source": [
    "pd.set_option('display.max_columns', None)"
   ]
  },
  {
   "cell_type": "code",
   "execution_count": 3,
   "metadata": {},
   "outputs": [],
   "source": [
    "import warnings\n",
    "warnings.filterwarnings(\"ignore\")"
   ]
  },
  {
   "cell_type": "markdown",
   "metadata": {},
   "source": [
    "___\n",
    "<a name=\"section-1\"></a>\n",
    "## (i) Data Pre-Processing"
   ]
  },
  {
   "cell_type": "code",
   "execution_count": 4,
   "metadata": {},
   "outputs": [],
   "source": [
    "condo_df = pd.read_csv('./Data/condo_dataset_preprocessed.csv')"
   ]
  },
  {
   "cell_type": "markdown",
   "metadata": {},
   "source": [
    "#### Drop unnecessary columns (Exclude amenities as well)"
   ]
  },
  {
   "cell_type": "code",
   "execution_count": 5,
   "metadata": {},
   "outputs": [
    {
     "data": {
      "text/plain": [
       "Index(['amenities', 'beds', 'developer', 'district', 'electoral_div', 'lease',\n",
       "       'name', 'nearest_mrt_name', 'neighbourhood', 'property_type', 'rental',\n",
       "       'sqft', 'tenure', 'travel_time_changi', 'travel_time_orchard',\n",
       "       'travel_time_raffles', 'furnishing', 'amenities_count',\n",
       "       'nearest_mrt_dist_min', 'nearest_mrt_dist_metres', 'freehold_status',\n",
       "       'rental_log'],\n",
       "      dtype='object')"
      ]
     },
     "execution_count": 5,
     "metadata": {},
     "output_type": "execute_result"
    }
   ],
   "source": [
    "condo_df.columns"
   ]
  },
  {
   "cell_type": "code",
   "execution_count": 6,
   "metadata": {},
   "outputs": [],
   "source": [
    "cols_to_drop = ['name','beds','developer','electoral_div','neighbourhood','rental','nearest_mrt_name','property_type', 'amenities',\n",
    "               'amenities_count','nearest_mrt_dist_min','nearest_mrt_dist_metres','furnishing','tenure','freehold_status']"
   ]
  },
  {
   "cell_type": "code",
   "execution_count": 7,
   "metadata": {
    "scrolled": true
   },
   "outputs": [
    {
     "data": {
      "text/html": [
       "<div>\n",
       "<style scoped>\n",
       "    .dataframe tbody tr th:only-of-type {\n",
       "        vertical-align: middle;\n",
       "    }\n",
       "\n",
       "    .dataframe tbody tr th {\n",
       "        vertical-align: top;\n",
       "    }\n",
       "\n",
       "    .dataframe thead th {\n",
       "        text-align: right;\n",
       "    }\n",
       "</style>\n",
       "<table border=\"1\" class=\"dataframe\">\n",
       "  <thead>\n",
       "    <tr style=\"text-align: right;\">\n",
       "      <th></th>\n",
       "      <th>district</th>\n",
       "      <th>lease</th>\n",
       "      <th>sqft</th>\n",
       "      <th>travel_time_changi</th>\n",
       "      <th>travel_time_orchard</th>\n",
       "      <th>travel_time_raffles</th>\n",
       "      <th>rental_log</th>\n",
       "    </tr>\n",
       "  </thead>\n",
       "  <tbody>\n",
       "    <tr>\n",
       "      <th>0</th>\n",
       "      <td>D09</td>\n",
       "      <td>Flexible</td>\n",
       "      <td>2100</td>\n",
       "      <td>53</td>\n",
       "      <td>12</td>\n",
       "      <td>16</td>\n",
       "      <td>9.159047</td>\n",
       "    </tr>\n",
       "    <tr>\n",
       "      <th>1</th>\n",
       "      <td>D09</td>\n",
       "      <td>Flexible</td>\n",
       "      <td>1399</td>\n",
       "      <td>56</td>\n",
       "      <td>12</td>\n",
       "      <td>13</td>\n",
       "      <td>8.853665</td>\n",
       "    </tr>\n",
       "    <tr>\n",
       "      <th>2</th>\n",
       "      <td>D05</td>\n",
       "      <td>greater_than_or_equal_24m</td>\n",
       "      <td>1948</td>\n",
       "      <td>70</td>\n",
       "      <td>27</td>\n",
       "      <td>22</td>\n",
       "      <td>8.732305</td>\n",
       "    </tr>\n",
       "    <tr>\n",
       "      <th>3</th>\n",
       "      <td>D22</td>\n",
       "      <td>Flexible</td>\n",
       "      <td>775</td>\n",
       "      <td>85</td>\n",
       "      <td>46</td>\n",
       "      <td>39</td>\n",
       "      <td>7.937375</td>\n",
       "    </tr>\n",
       "    <tr>\n",
       "      <th>4</th>\n",
       "      <td>D15</td>\n",
       "      <td>Flexible</td>\n",
       "      <td>635</td>\n",
       "      <td>46</td>\n",
       "      <td>41</td>\n",
       "      <td>34</td>\n",
       "      <td>7.783224</td>\n",
       "    </tr>\n",
       "  </tbody>\n",
       "</table>\n",
       "</div>"
      ],
      "text/plain": [
       "  district                      lease  sqft  travel_time_changi  \\\n",
       "0      D09                   Flexible  2100                  53   \n",
       "1      D09                   Flexible  1399                  56   \n",
       "2      D05  greater_than_or_equal_24m  1948                  70   \n",
       "3      D22                   Flexible   775                  85   \n",
       "4      D15                   Flexible   635                  46   \n",
       "\n",
       "   travel_time_orchard  travel_time_raffles  rental_log  \n",
       "0                   12                   16    9.159047  \n",
       "1                   12                   13    8.853665  \n",
       "2                   27                   22    8.732305  \n",
       "3                   46                   39    7.937375  \n",
       "4                   41                   34    7.783224  "
      ]
     },
     "execution_count": 7,
     "metadata": {},
     "output_type": "execute_result"
    }
   ],
   "source": [
    "condo_df_sm = condo_df.drop(columns = cols_to_drop)\n",
    "condo_df_sm.head()"
   ]
  },
  {
   "cell_type": "markdown",
   "metadata": {},
   "source": [
    "___\n",
    "<a name=\"section-2\"></a>\n",
    "## (ii) Modeling - XGBoost Regressor"
   ]
  },
  {
   "cell_type": "code",
   "execution_count": 9,
   "metadata": {},
   "outputs": [],
   "source": [
    "condo_df = condo_df_sm.copy()\n",
    "\n",
    "# One-hot encoding of categorical variables\n",
    "condo_df = pd.get_dummies(condo_df, columns = ['district'], drop_first = False) \n",
    "condo_df = pd.get_dummies(condo_df, columns = ['lease'], drop_first = False) \n",
    "\n",
    "# Separate dependent(target) variable and independent variables\n",
    "X = condo_df.drop(['rental_log'], axis = 1)\n",
    "y = condo_df['rental_log']\n",
    "\n",
    "# Perform train test split\n",
    "X_train, X_test, y_train, y_test = train_test_split(X, y, test_size = 0.2, random_state = 42)"
   ]
  },
  {
   "cell_type": "code",
   "execution_count": 10,
   "metadata": {},
   "outputs": [],
   "source": [
    "xgb_param_grid = {'colsample_bytree': [0.4,0.5,0.6,0.7,0.8],\n",
    "                  'learning_rate' : [0.01,0.1,0.3],\n",
    "                  'max_depth': [3,4,5,6], \n",
    "                  'alpha': [1e-5, 1e-2, 0.1, 1, 100], \n",
    "                  'n_estimators':[200]\n",
    "}"
   ]
  },
  {
   "cell_type": "code",
   "execution_count": 25,
   "metadata": {},
   "outputs": [
    {
     "name": "stdout",
     "output_type": "stream",
     "text": [
      "Fitting 5 folds for each of 300 candidates, totalling 1500 fits\n"
     ]
    },
    {
     "name": "stderr",
     "output_type": "stream",
     "text": [
      "[Parallel(n_jobs=-1)]: Using backend LokyBackend with 8 concurrent workers.\n",
      "[Parallel(n_jobs=-1)]: Done  34 tasks      | elapsed:    9.8s\n",
      "[Parallel(n_jobs=-1)]: Done 184 tasks      | elapsed:   38.9s\n",
      "[Parallel(n_jobs=-1)]: Done 434 tasks      | elapsed:  1.5min\n",
      "[Parallel(n_jobs=-1)]: Done 784 tasks      | elapsed:  2.7min\n",
      "[Parallel(n_jobs=-1)]: Done 1234 tasks      | elapsed:  4.2min\n",
      "[Parallel(n_jobs=-1)]: Done 1500 out of 1500 | elapsed:  4.7min finished\n"
     ]
    },
    {
     "data": {
      "text/plain": [
       "GridSearchCV(cv=5,\n",
       "             estimator=XGBRegressor(base_score=None, booster=None,\n",
       "                                    colsample_bylevel=None,\n",
       "                                    colsample_bynode=None,\n",
       "                                    colsample_bytree=None, gamma=None,\n",
       "                                    gpu_id=None, importance_type='gain',\n",
       "                                    interaction_constraints=None,\n",
       "                                    learning_rate=None, max_delta_step=None,\n",
       "                                    max_depth=None, min_child_weight=None,\n",
       "                                    missing=nan, monotone_constraints=None,\n",
       "                                    n_estimators=100, n_jobs=...\n",
       "                                    num_parallel_tree=None, random_state=None,\n",
       "                                    reg_alpha=None, reg_lambda=None,\n",
       "                                    scale_pos_weight=None, seed=42,\n",
       "                                    subsample=None, tree_method=None,\n",
       "                                    validate_parameters=None, verbosity=None),\n",
       "             n_jobs=-1,\n",
       "             param_grid={'alpha': [1e-05, 0.01, 0.1, 1, 100],\n",
       "                         'colsample_bytree': [0.4, 0.5, 0.6, 0.7, 0.8],\n",
       "                         'learning_rate': [0.01, 0.1, 0.3],\n",
       "                         'max_depth': [3, 4, 5, 6], 'n_estimators': [200]},\n",
       "             verbose=1)"
      ]
     },
     "execution_count": 25,
     "metadata": {},
     "output_type": "execute_result"
    }
   ],
   "source": [
    "xgb_reg = xgb.XGBRegressor(seed = 42, objective ='reg:squarederror')\n",
    "\n",
    "xgb_reg_grid = GridSearchCV(estimator = xgb_reg, param_grid = xgb_param_grid, cv=5, n_jobs=-1, verbose=1) \n",
    "\n",
    "xgb_reg_grid.fit(X_train, y_train)"
   ]
  },
  {
   "cell_type": "code",
   "execution_count": 26,
   "metadata": {},
   "outputs": [
    {
     "data": {
      "text/plain": [
       "{'alpha': 0.01,\n",
       " 'colsample_bytree': 0.7,\n",
       " 'learning_rate': 0.3,\n",
       " 'max_depth': 6,\n",
       " 'n_estimators': 200}"
      ]
     },
     "execution_count": 26,
     "metadata": {},
     "output_type": "execute_result"
    }
   ],
   "source": [
    "xgb_reg_grid.best_params_"
   ]
  },
  {
   "cell_type": "code",
   "execution_count": 27,
   "metadata": {},
   "outputs": [],
   "source": [
    "best_xgb_reg = xgb_reg_grid.best_estimator_\n",
    "y_pred_test = best_xgb_reg.predict(X_test)"
   ]
  },
  {
   "cell_type": "code",
   "execution_count": 28,
   "metadata": {
    "scrolled": true
   },
   "outputs": [
    {
     "data": {
      "text/html": [
       "<div>\n",
       "<style scoped>\n",
       "    .dataframe tbody tr th:only-of-type {\n",
       "        vertical-align: middle;\n",
       "    }\n",
       "\n",
       "    .dataframe tbody tr th {\n",
       "        vertical-align: top;\n",
       "    }\n",
       "\n",
       "    .dataframe thead th {\n",
       "        text-align: right;\n",
       "    }\n",
       "</style>\n",
       "<table border=\"1\" class=\"dataframe\">\n",
       "  <thead>\n",
       "    <tr style=\"text-align: right;\">\n",
       "      <th></th>\n",
       "      <th>Model</th>\n",
       "      <th>R^2</th>\n",
       "      <th>Adjusted R^2</th>\n",
       "      <th>MAE</th>\n",
       "      <th>MSE</th>\n",
       "      <th>RMSE</th>\n",
       "    </tr>\n",
       "  </thead>\n",
       "  <tbody>\n",
       "    <tr>\n",
       "      <th>0</th>\n",
       "      <td>XGBoost Regressor</td>\n",
       "      <td>0.939152</td>\n",
       "      <td>0.937703</td>\n",
       "      <td>0.0816267</td>\n",
       "      <td>0.0174303</td>\n",
       "      <td>0.132024</td>\n",
       "    </tr>\n",
       "  </tbody>\n",
       "</table>\n",
       "</div>"
      ],
      "text/plain": [
       "               Model       R^2 Adjusted R^2        MAE        MSE      RMSE\n",
       "0  XGBoost Regressor  0.939152     0.937703  0.0816267  0.0174303  0.132024"
      ]
     },
     "execution_count": 28,
     "metadata": {},
     "output_type": "execute_result"
    }
   ],
   "source": [
    "# Store results as dataframe\n",
    "xgb_dict = {'Model':'XGBoost Regressor',\n",
    "          'R^2':metrics.r2_score(y_test, y_pred_test),\n",
    "          'Adjusted R^2':(1 - (1-metrics.r2_score(y_test, y_pred_test))*(len(y_test)-1)/(len(y_test)-X_test.shape[1]-1)),\n",
    "          'MAE':metrics.mean_absolute_error(y_test, y_pred_test),\n",
    "          'MSE':metrics.mean_squared_error(y_test, y_pred_test),\n",
    "          'RMSE':np.sqrt(metrics.mean_squared_error(y_test, y_pred_test))}\n",
    "\n",
    "xgb_metrics = pd.DataFrame.from_dict(xgb_dict, orient = 'index').T\n",
    "xgb_metrics"
   ]
  },
  {
   "cell_type": "markdown",
   "metadata": {},
   "source": [
    "Metrics of XGBoost Regressor (ALL features): 0.938933,\t0.937171,\t0.0845944,\t0.0174931,\t0.132261\n",
    "\n",
    "Similar performance with or without the amenities features"
   ]
  },
  {
   "cell_type": "markdown",
   "metadata": {},
   "source": [
    "#### Feature Importance"
   ]
  },
  {
   "cell_type": "code",
   "execution_count": 29,
   "metadata": {
    "scrolled": true
   },
   "outputs": [
    {
     "data": {
      "text/html": [
       "<div>\n",
       "<style scoped>\n",
       "    .dataframe tbody tr th:only-of-type {\n",
       "        vertical-align: middle;\n",
       "    }\n",
       "\n",
       "    .dataframe tbody tr th {\n",
       "        vertical-align: top;\n",
       "    }\n",
       "\n",
       "    .dataframe thead th {\n",
       "        text-align: right;\n",
       "    }\n",
       "</style>\n",
       "<table border=\"1\" class=\"dataframe\">\n",
       "  <thead>\n",
       "    <tr style=\"text-align: right;\">\n",
       "      <th></th>\n",
       "      <th>Feature</th>\n",
       "      <th>Importance Score</th>\n",
       "    </tr>\n",
       "  </thead>\n",
       "  <tbody>\n",
       "    <tr>\n",
       "      <th>13</th>\n",
       "      <td>district_D10</td>\n",
       "      <td>0.266733</td>\n",
       "    </tr>\n",
       "    <tr>\n",
       "      <th>0</th>\n",
       "      <td>sqft</td>\n",
       "      <td>0.163545</td>\n",
       "    </tr>\n",
       "    <tr>\n",
       "      <th>7</th>\n",
       "      <td>district_D04</td>\n",
       "      <td>0.159607</td>\n",
       "    </tr>\n",
       "    <tr>\n",
       "      <th>12</th>\n",
       "      <td>district_D09</td>\n",
       "      <td>0.0518453</td>\n",
       "    </tr>\n",
       "    <tr>\n",
       "      <th>2</th>\n",
       "      <td>travel_time_orchard</td>\n",
       "      <td>0.0495779</td>\n",
       "    </tr>\n",
       "    <tr>\n",
       "      <th>27</th>\n",
       "      <td>district_D25</td>\n",
       "      <td>0.0360125</td>\n",
       "    </tr>\n",
       "    <tr>\n",
       "      <th>5</th>\n",
       "      <td>district_D02</td>\n",
       "      <td>0.0285344</td>\n",
       "    </tr>\n",
       "    <tr>\n",
       "      <th>3</th>\n",
       "      <td>travel_time_raffles</td>\n",
       "      <td>0.0260615</td>\n",
       "    </tr>\n",
       "    <tr>\n",
       "      <th>1</th>\n",
       "      <td>travel_time_changi</td>\n",
       "      <td>0.0187806</td>\n",
       "    </tr>\n",
       "    <tr>\n",
       "      <th>11</th>\n",
       "      <td>district_D08</td>\n",
       "      <td>0.0175022</td>\n",
       "    </tr>\n",
       "  </tbody>\n",
       "</table>\n",
       "</div>"
      ],
      "text/plain": [
       "                Feature Importance Score\n",
       "13         district_D10         0.266733\n",
       "0                  sqft         0.163545\n",
       "7          district_D04         0.159607\n",
       "12         district_D09        0.0518453\n",
       "2   travel_time_orchard        0.0495779\n",
       "27         district_D25        0.0360125\n",
       "5          district_D02        0.0285344\n",
       "3   travel_time_raffles        0.0260615\n",
       "1    travel_time_changi        0.0187806\n",
       "11         district_D08        0.0175022"
      ]
     },
     "execution_count": 29,
     "metadata": {},
     "output_type": "execute_result"
    }
   ],
   "source": [
    "xgb_features = pd.DataFrame([X_train.columns, best_xgb_reg.feature_importances_]).T\n",
    "xgb_features = xgb_features.rename(columns={0: 'Feature', 1: 'Importance Score'})\n",
    "xgb_features.sort_values(by = 'Importance Score', ascending = False).head(10)"
   ]
  },
  {
   "cell_type": "markdown",
   "metadata": {},
   "source": [
    "#### Model with just the numeric features (i.e. sqft, travel times)"
   ]
  },
  {
   "cell_type": "code",
   "execution_count": 37,
   "metadata": {},
   "outputs": [],
   "source": [
    "X_train_sm = X_train[['sqft','travel_time_changi','travel_time_orchard','travel_time_raffles']]\n",
    "X_test_sm = X_test[['sqft','travel_time_changi','travel_time_orchard','travel_time_raffles']]"
   ]
  },
  {
   "cell_type": "code",
   "execution_count": 38,
   "metadata": {},
   "outputs": [
    {
     "name": "stdout",
     "output_type": "stream",
     "text": [
      "Fitting 5 folds for each of 300 candidates, totalling 1500 fits\n"
     ]
    },
    {
     "name": "stderr",
     "output_type": "stream",
     "text": [
      "[Parallel(n_jobs=-1)]: Using backend LokyBackend with 8 concurrent workers.\n",
      "[Parallel(n_jobs=-1)]: Done  34 tasks      | elapsed:    5.5s\n",
      "[Parallel(n_jobs=-1)]: Done 184 tasks      | elapsed:   21.0s\n",
      "[Parallel(n_jobs=-1)]: Done 434 tasks      | elapsed:   47.2s\n",
      "[Parallel(n_jobs=-1)]: Done 784 tasks      | elapsed:  1.4min\n",
      "[Parallel(n_jobs=-1)]: Done 1234 tasks      | elapsed:  2.0min\n",
      "[Parallel(n_jobs=-1)]: Done 1500 out of 1500 | elapsed:  2.3min finished\n"
     ]
    },
    {
     "data": {
      "text/plain": [
       "GridSearchCV(cv=5,\n",
       "             estimator=XGBRegressor(base_score=None, booster=None,\n",
       "                                    colsample_bylevel=None,\n",
       "                                    colsample_bynode=None,\n",
       "                                    colsample_bytree=None, gamma=None,\n",
       "                                    gpu_id=None, importance_type='gain',\n",
       "                                    interaction_constraints=None,\n",
       "                                    learning_rate=None, max_delta_step=None,\n",
       "                                    max_depth=None, min_child_weight=None,\n",
       "                                    missing=nan, monotone_constraints=None,\n",
       "                                    n_estimators=100, n_jobs=...\n",
       "                                    num_parallel_tree=None, random_state=None,\n",
       "                                    reg_alpha=None, reg_lambda=None,\n",
       "                                    scale_pos_weight=None, seed=42,\n",
       "                                    subsample=None, tree_method=None,\n",
       "                                    validate_parameters=None, verbosity=None),\n",
       "             n_jobs=-1,\n",
       "             param_grid={'alpha': [1e-05, 0.01, 0.1, 1, 100],\n",
       "                         'colsample_bytree': [0.4, 0.5, 0.6, 0.7, 0.8],\n",
       "                         'learning_rate': [0.01, 0.1, 0.3],\n",
       "                         'max_depth': [3, 4, 5, 6], 'n_estimators': [200]},\n",
       "             verbose=1)"
      ]
     },
     "execution_count": 38,
     "metadata": {},
     "output_type": "execute_result"
    }
   ],
   "source": [
    "xgb_reg = xgb.XGBRegressor(seed = 42, objective ='reg:squarederror')\n",
    "\n",
    "xgb_reg_grid = GridSearchCV(estimator = xgb_reg, param_grid = xgb_param_grid, cv=5, n_jobs=-1, verbose=2) \n",
    "\n",
    "xgb_reg_grid.fit(X_train_sm, y_train)"
   ]
  },
  {
   "cell_type": "code",
   "execution_count": 39,
   "metadata": {},
   "outputs": [],
   "source": [
    "best_xgb_reg = xgb_reg_grid.best_estimator_\n",
    "y_pred_test = best_xgb_reg.predict(X_test_sm)"
   ]
  },
  {
   "cell_type": "code",
   "execution_count": 41,
   "metadata": {},
   "outputs": [
    {
     "data": {
      "text/html": [
       "<div>\n",
       "<style scoped>\n",
       "    .dataframe tbody tr th:only-of-type {\n",
       "        vertical-align: middle;\n",
       "    }\n",
       "\n",
       "    .dataframe tbody tr th {\n",
       "        vertical-align: top;\n",
       "    }\n",
       "\n",
       "    .dataframe thead th {\n",
       "        text-align: right;\n",
       "    }\n",
       "</style>\n",
       "<table border=\"1\" class=\"dataframe\">\n",
       "  <thead>\n",
       "    <tr style=\"text-align: right;\">\n",
       "      <th></th>\n",
       "      <th>Model</th>\n",
       "      <th>R^2</th>\n",
       "      <th>Adjusted R^2</th>\n",
       "      <th>MAE</th>\n",
       "      <th>MSE</th>\n",
       "      <th>RMSE</th>\n",
       "    </tr>\n",
       "  </thead>\n",
       "  <tbody>\n",
       "    <tr>\n",
       "      <th>0</th>\n",
       "      <td>XGBoost Regressor</td>\n",
       "      <td>0.934522</td>\n",
       "      <td>0.932963</td>\n",
       "      <td>0.0837601</td>\n",
       "      <td>0.0187566</td>\n",
       "      <td>0.136955</td>\n",
       "    </tr>\n",
       "  </tbody>\n",
       "</table>\n",
       "</div>"
      ],
      "text/plain": [
       "               Model       R^2 Adjusted R^2        MAE        MSE      RMSE\n",
       "0  XGBoost Regressor  0.934522     0.932963  0.0837601  0.0187566  0.136955"
      ]
     },
     "execution_count": 41,
     "metadata": {},
     "output_type": "execute_result"
    }
   ],
   "source": [
    "# Store results as dataframe\n",
    "xgb_dict = {'Model':'XGBoost Regressor',\n",
    "          'R^2':metrics.r2_score(y_test, y_pred_test),\n",
    "          'Adjusted R^2':(1 - (1-metrics.r2_score(y_test, y_pred_test))*(len(y_test)-1)/(len(y_test)-X_test.shape[1]-1)),\n",
    "          'MAE':metrics.mean_absolute_error(y_test, y_pred_test),\n",
    "          'MSE':metrics.mean_squared_error(y_test, y_pred_test),\n",
    "          'RMSE':np.sqrt(metrics.mean_squared_error(y_test, y_pred_test))}\n",
    "\n",
    "xgb_metrics_sm = pd.DataFrame.from_dict(xgb_dict, orient = 'index').T\n",
    "xgb_metrics_sm"
   ]
  },
  {
   "cell_type": "markdown",
   "metadata": {},
   "source": [
    "With just the numerical features, the RMSE worsened slightly from 0.132024 to 0.136955. Meaning that the inclusion of features like district and lease features helped with the performance."
   ]
  },
  {
   "cell_type": "markdown",
   "metadata": {},
   "source": [
    "___\n",
    "<a name=\"section-3\"></a>\n",
    "## (iii) Modeling - LightGBM Regressor"
   ]
  },
  {
   "cell_type": "code",
   "execution_count": 16,
   "metadata": {},
   "outputs": [],
   "source": [
    "condo_df = condo_df_sm.copy()\n",
    "\n",
    "# One-hot encoding of categorical variables\n",
    "condo_df = pd.get_dummies(condo_df, columns = ['district'], drop_first = False) \n",
    "condo_df = pd.get_dummies(condo_df, columns = ['lease'], drop_first = False) \n",
    "\n",
    "# Separate dependent(target) variable and independent variables\n",
    "X = condo_df.drop(['rental_log'], axis = 1)\n",
    "y = condo_df['rental_log']\n",
    "\n",
    "# Perform train test split\n",
    "X_train, X_test, y_train, y_test = train_test_split(X, y, test_size = 0.2, random_state = 42)"
   ]
  },
  {
   "cell_type": "code",
   "execution_count": 17,
   "metadata": {},
   "outputs": [],
   "source": [
    "gbm_param_grid = {'boosting_type': ['gbdt'],\n",
    "                  'objective': ['regression'],\n",
    "                  'metric': ['rmse'],\n",
    "                  'max_depth': [4,6,8,9,10,11,12], \n",
    "                  'learning_rate': [0.001,0.01,0.05,0.1,0.2]}"
   ]
  },
  {
   "cell_type": "code",
   "execution_count": 18,
   "metadata": {},
   "outputs": [
    {
     "name": "stdout",
     "output_type": "stream",
     "text": [
      "Fitting 5 folds for each of 35 candidates, totalling 175 fits\n"
     ]
    },
    {
     "name": "stderr",
     "output_type": "stream",
     "text": [
      "[Parallel(n_jobs=-1)]: Using backend LokyBackend with 8 concurrent workers.\n",
      "[Parallel(n_jobs=-1)]: Done  34 tasks      | elapsed:   35.1s\n",
      "[Parallel(n_jobs=-1)]: Done 175 out of 175 | elapsed:  2.5min finished\n"
     ]
    },
    {
     "name": "stdout",
     "output_type": "stream",
     "text": [
      "[LightGBM] [Warning] Accuracy may be bad since you didn't set num_leaves and 2^max_depth > num_leaves\n"
     ]
    },
    {
     "data": {
      "text/plain": [
       "GridSearchCV(cv=5, estimator=LGBMRegressor(num_iterations=1000, seed=42),\n",
       "             n_jobs=-1,\n",
       "             param_grid={'boosting_type': ['gbdt'],\n",
       "                         'learning_rate': [0.001, 0.01, 0.05, 0.1, 0.2],\n",
       "                         'max_depth': [4, 6, 8, 9, 10, 11, 12],\n",
       "                         'metric': ['rmse'], 'objective': ['regression']},\n",
       "             verbose=1)"
      ]
     },
     "execution_count": 18,
     "metadata": {},
     "output_type": "execute_result"
    }
   ],
   "source": [
    "light_gbm_reg = lgb.LGBMRegressor(seed = 42, num_iterations = 1000)\n",
    "\n",
    "light_gbm_grid = GridSearchCV(estimator = light_gbm_reg, param_grid = gbm_param_grid, cv=5, n_jobs=-1, verbose=1) \n",
    "\n",
    "light_gbm_grid.fit(X_train, y_train)"
   ]
  },
  {
   "cell_type": "code",
   "execution_count": 19,
   "metadata": {},
   "outputs": [
    {
     "data": {
      "text/plain": [
       "{'boosting_type': 'gbdt',\n",
       " 'learning_rate': 0.1,\n",
       " 'max_depth': 12,\n",
       " 'metric': 'rmse',\n",
       " 'objective': 'regression'}"
      ]
     },
     "execution_count": 19,
     "metadata": {},
     "output_type": "execute_result"
    }
   ],
   "source": [
    "light_gbm_grid.best_params_"
   ]
  },
  {
   "cell_type": "code",
   "execution_count": 20,
   "metadata": {},
   "outputs": [],
   "source": [
    "best_light_gbm = light_gbm_grid.best_estimator_\n",
    "y_pred_test = best_light_gbm.predict(X_test)"
   ]
  },
  {
   "cell_type": "code",
   "execution_count": 21,
   "metadata": {
    "scrolled": false
   },
   "outputs": [
    {
     "data": {
      "text/html": [
       "<div>\n",
       "<style scoped>\n",
       "    .dataframe tbody tr th:only-of-type {\n",
       "        vertical-align: middle;\n",
       "    }\n",
       "\n",
       "    .dataframe tbody tr th {\n",
       "        vertical-align: top;\n",
       "    }\n",
       "\n",
       "    .dataframe thead th {\n",
       "        text-align: right;\n",
       "    }\n",
       "</style>\n",
       "<table border=\"1\" class=\"dataframe\">\n",
       "  <thead>\n",
       "    <tr style=\"text-align: right;\">\n",
       "      <th></th>\n",
       "      <th>Model</th>\n",
       "      <th>R^2</th>\n",
       "      <th>Adjusted R^2</th>\n",
       "      <th>MAE</th>\n",
       "      <th>MSE</th>\n",
       "      <th>RMSE</th>\n",
       "    </tr>\n",
       "  </thead>\n",
       "  <tbody>\n",
       "    <tr>\n",
       "      <th>0</th>\n",
       "      <td>LightGBM Regressor</td>\n",
       "      <td>0.933048</td>\n",
       "      <td>0.931454</td>\n",
       "      <td>0.0859635</td>\n",
       "      <td>0.0191789</td>\n",
       "      <td>0.138488</td>\n",
       "    </tr>\n",
       "  </tbody>\n",
       "</table>\n",
       "</div>"
      ],
      "text/plain": [
       "                Model       R^2 Adjusted R^2        MAE        MSE      RMSE\n",
       "0  LightGBM Regressor  0.933048     0.931454  0.0859635  0.0191789  0.138488"
      ]
     },
     "execution_count": 21,
     "metadata": {},
     "output_type": "execute_result"
    }
   ],
   "source": [
    "# Store results as dataframe\n",
    "lgbm_dict = {'Model':'LightGBM Regressor',\n",
    "          'R^2':metrics.r2_score(y_test, y_pred_test),\n",
    "          'Adjusted R^2':(1 - (1-metrics.r2_score(y_test, y_pred_test))*(len(y_test)-1)/(len(y_test)-X_test.shape[1]-1)),\n",
    "          'MAE':metrics.mean_absolute_error(y_test, y_pred_test),\n",
    "          'MSE':metrics.mean_squared_error(y_test, y_pred_test),\n",
    "          'RMSE':np.sqrt(metrics.mean_squared_error(y_test, y_pred_test))}\n",
    "\n",
    "lgbm_metrics = pd.DataFrame.from_dict(lgbm_dict, orient = 'index').T\n",
    "lgbm_metrics"
   ]
  },
  {
   "cell_type": "markdown",
   "metadata": {},
   "source": [
    "Metrics of LightGBM  Regressor (Full Features): 0.935645,\t0.933788,\t0.0852931,\t0.018435,\t0.135776"
   ]
  },
  {
   "cell_type": "markdown",
   "metadata": {},
   "source": [
    "#### LightGBM Regressor Feature Importance"
   ]
  },
  {
   "cell_type": "code",
   "execution_count": 24,
   "metadata": {
    "scrolled": true
   },
   "outputs": [
    {
     "data": {
      "text/html": [
       "<div>\n",
       "<style scoped>\n",
       "    .dataframe tbody tr th:only-of-type {\n",
       "        vertical-align: middle;\n",
       "    }\n",
       "\n",
       "    .dataframe tbody tr th {\n",
       "        vertical-align: top;\n",
       "    }\n",
       "\n",
       "    .dataframe thead th {\n",
       "        text-align: right;\n",
       "    }\n",
       "</style>\n",
       "<table border=\"1\" class=\"dataframe\">\n",
       "  <thead>\n",
       "    <tr style=\"text-align: right;\">\n",
       "      <th></th>\n",
       "      <th>Feature</th>\n",
       "      <th>Importance Score</th>\n",
       "    </tr>\n",
       "  </thead>\n",
       "  <tbody>\n",
       "    <tr>\n",
       "      <th>0</th>\n",
       "      <td>sqft</td>\n",
       "      <td>11755</td>\n",
       "    </tr>\n",
       "    <tr>\n",
       "      <th>1</th>\n",
       "      <td>travel_time_changi</td>\n",
       "      <td>5483</td>\n",
       "    </tr>\n",
       "    <tr>\n",
       "      <th>2</th>\n",
       "      <td>travel_time_orchard</td>\n",
       "      <td>4806</td>\n",
       "    </tr>\n",
       "    <tr>\n",
       "      <th>3</th>\n",
       "      <td>travel_time_raffles</td>\n",
       "      <td>4683</td>\n",
       "    </tr>\n",
       "    <tr>\n",
       "      <th>31</th>\n",
       "      <td>lease_Flexible</td>\n",
       "      <td>403</td>\n",
       "    </tr>\n",
       "    <tr>\n",
       "      <th>12</th>\n",
       "      <td>district_D09</td>\n",
       "      <td>286</td>\n",
       "    </tr>\n",
       "    <tr>\n",
       "      <th>32</th>\n",
       "      <td>lease_greater_than_or_equal_24m</td>\n",
       "      <td>257</td>\n",
       "    </tr>\n",
       "    <tr>\n",
       "      <th>13</th>\n",
       "      <td>district_D10</td>\n",
       "      <td>173</td>\n",
       "    </tr>\n",
       "    <tr>\n",
       "      <th>7</th>\n",
       "      <td>district_D04</td>\n",
       "      <td>153</td>\n",
       "    </tr>\n",
       "    <tr>\n",
       "      <th>14</th>\n",
       "      <td>district_D11</td>\n",
       "      <td>137</td>\n",
       "    </tr>\n",
       "  </tbody>\n",
       "</table>\n",
       "</div>"
      ],
      "text/plain": [
       "                            Feature Importance Score\n",
       "0                              sqft            11755\n",
       "1                travel_time_changi             5483\n",
       "2               travel_time_orchard             4806\n",
       "3               travel_time_raffles             4683\n",
       "31                   lease_Flexible              403\n",
       "12                     district_D09              286\n",
       "32  lease_greater_than_or_equal_24m              257\n",
       "13                     district_D10              173\n",
       "7                      district_D04              153\n",
       "14                     district_D11              137"
      ]
     },
     "execution_count": 24,
     "metadata": {},
     "output_type": "execute_result"
    }
   ],
   "source": [
    "lgb_features = pd.DataFrame([X_train.columns, best_light_gbm.feature_importances_]).T\n",
    "lgb_features = lgb_features.rename(columns={0: 'Feature', 1: 'Importance Score'})\n",
    "lgb_features.sort_values(by = 'Importance Score', ascending = False).head(10)"
   ]
  },
  {
   "cell_type": "markdown",
   "metadata": {},
   "source": [
    "#### Model with just the numeric features (i.e. sqft, travel times)"
   ]
  },
  {
   "cell_type": "code",
   "execution_count": 33,
   "metadata": {},
   "outputs": [],
   "source": [
    "X_train_sm = X_train[['sqft','travel_time_changi','travel_time_orchard','travel_time_raffles']]\n",
    "X_test_sm = X_test[['sqft','travel_time_changi','travel_time_orchard','travel_time_raffles']]"
   ]
  },
  {
   "cell_type": "code",
   "execution_count": 31,
   "metadata": {},
   "outputs": [
    {
     "name": "stdout",
     "output_type": "stream",
     "text": [
      "Fitting 5 folds for each of 35 candidates, totalling 175 fits\n"
     ]
    },
    {
     "name": "stderr",
     "output_type": "stream",
     "text": [
      "[Parallel(n_jobs=-1)]: Using backend LokyBackend with 8 concurrent workers.\n",
      "[Parallel(n_jobs=-1)]: Done  34 tasks      | elapsed:   28.7s\n",
      "[Parallel(n_jobs=-1)]: Done 175 out of 175 | elapsed:  2.2min finished\n"
     ]
    },
    {
     "name": "stdout",
     "output_type": "stream",
     "text": [
      "[LightGBM] [Warning] Accuracy may be bad since you didn't set num_leaves and 2^max_depth > num_leaves\n"
     ]
    },
    {
     "data": {
      "text/plain": [
       "GridSearchCV(cv=5, estimator=LGBMRegressor(num_iterations=1000, seed=42),\n",
       "             n_jobs=-1,\n",
       "             param_grid={'boosting_type': ['gbdt'],\n",
       "                         'learning_rate': [0.001, 0.01, 0.05, 0.1, 0.2],\n",
       "                         'max_depth': [4, 6, 8, 9, 10, 11, 12],\n",
       "                         'metric': ['rmse'], 'objective': ['regression']},\n",
       "             verbose=1)"
      ]
     },
     "execution_count": 31,
     "metadata": {},
     "output_type": "execute_result"
    }
   ],
   "source": [
    "light_gbm_reg = lgb.LGBMRegressor(seed = 42, num_iterations = 1000)\n",
    "\n",
    "light_gbm_grid = GridSearchCV(estimator = light_gbm_reg, param_grid = gbm_param_grid, cv=5, n_jobs=-1, verbose=1) \n",
    "\n",
    "light_gbm_grid.fit(X_train_sm, y_train)"
   ]
  },
  {
   "cell_type": "code",
   "execution_count": 42,
   "metadata": {},
   "outputs": [
    {
     "data": {
      "text/plain": [
       "{'boosting_type': 'gbdt',\n",
       " 'learning_rate': 0.1,\n",
       " 'max_depth': 11,\n",
       " 'metric': 'rmse',\n",
       " 'objective': 'regression'}"
      ]
     },
     "execution_count": 42,
     "metadata": {},
     "output_type": "execute_result"
    }
   ],
   "source": [
    "light_gbm_grid.best_params_"
   ]
  },
  {
   "cell_type": "code",
   "execution_count": 35,
   "metadata": {},
   "outputs": [],
   "source": [
    "best_light_gbm = light_gbm_grid.best_estimator_\n",
    "y_pred_test = best_light_gbm.predict(X_test_sm)"
   ]
  },
  {
   "cell_type": "code",
   "execution_count": 36,
   "metadata": {},
   "outputs": [
    {
     "data": {
      "text/html": [
       "<div>\n",
       "<style scoped>\n",
       "    .dataframe tbody tr th:only-of-type {\n",
       "        vertical-align: middle;\n",
       "    }\n",
       "\n",
       "    .dataframe tbody tr th {\n",
       "        vertical-align: top;\n",
       "    }\n",
       "\n",
       "    .dataframe thead th {\n",
       "        text-align: right;\n",
       "    }\n",
       "</style>\n",
       "<table border=\"1\" class=\"dataframe\">\n",
       "  <thead>\n",
       "    <tr style=\"text-align: right;\">\n",
       "      <th></th>\n",
       "      <th>Model</th>\n",
       "      <th>R^2</th>\n",
       "      <th>Adjusted R^2</th>\n",
       "      <th>MAE</th>\n",
       "      <th>MSE</th>\n",
       "      <th>RMSE</th>\n",
       "    </tr>\n",
       "  </thead>\n",
       "  <tbody>\n",
       "    <tr>\n",
       "      <th>0</th>\n",
       "      <td>LightGBM Regressor</td>\n",
       "      <td>0.934002</td>\n",
       "      <td>0.93243</td>\n",
       "      <td>0.084159</td>\n",
       "      <td>0.0189056</td>\n",
       "      <td>0.137498</td>\n",
       "    </tr>\n",
       "  </tbody>\n",
       "</table>\n",
       "</div>"
      ],
      "text/plain": [
       "                Model       R^2 Adjusted R^2       MAE        MSE      RMSE\n",
       "0  LightGBM Regressor  0.934002      0.93243  0.084159  0.0189056  0.137498"
      ]
     },
     "execution_count": 36,
     "metadata": {},
     "output_type": "execute_result"
    }
   ],
   "source": [
    "# Store results as dataframe\n",
    "lgbm_dict = {'Model':'LightGBM Regressor',\n",
    "          'R^2':metrics.r2_score(y_test, y_pred_test),\n",
    "          'Adjusted R^2':(1 - (1-metrics.r2_score(y_test, y_pred_test))*(len(y_test)-1)/(len(y_test)-X_test.shape[1]-1)),\n",
    "          'MAE':metrics.mean_absolute_error(y_test, y_pred_test),\n",
    "          'MSE':metrics.mean_squared_error(y_test, y_pred_test),\n",
    "          'RMSE':np.sqrt(metrics.mean_squared_error(y_test, y_pred_test))}\n",
    "\n",
    "lgbm_metrics_sm = pd.DataFrame.from_dict(lgbm_dict, orient = 'index').T\n",
    "lgbm_metrics_sm"
   ]
  },
  {
   "cell_type": "markdown",
   "metadata": {},
   "source": [
    "___\n",
    "### Model Comparison"
   ]
  },
  {
   "cell_type": "code",
   "execution_count": 43,
   "metadata": {},
   "outputs": [
    {
     "data": {
      "text/html": [
       "<div>\n",
       "<style scoped>\n",
       "    .dataframe tbody tr th:only-of-type {\n",
       "        vertical-align: middle;\n",
       "    }\n",
       "\n",
       "    .dataframe tbody tr th {\n",
       "        vertical-align: top;\n",
       "    }\n",
       "\n",
       "    .dataframe thead th {\n",
       "        text-align: right;\n",
       "    }\n",
       "</style>\n",
       "<table border=\"1\" class=\"dataframe\">\n",
       "  <thead>\n",
       "    <tr style=\"text-align: right;\">\n",
       "      <th></th>\n",
       "      <th>Model</th>\n",
       "      <th>R^2</th>\n",
       "      <th>Adjusted R^2</th>\n",
       "      <th>MAE</th>\n",
       "      <th>MSE</th>\n",
       "      <th>RMSE</th>\n",
       "    </tr>\n",
       "  </thead>\n",
       "  <tbody>\n",
       "    <tr>\n",
       "      <th>0</th>\n",
       "      <td>XGBoost Regressor</td>\n",
       "      <td>0.934522</td>\n",
       "      <td>0.932963</td>\n",
       "      <td>0.0837601</td>\n",
       "      <td>0.0187566</td>\n",
       "      <td>0.136955</td>\n",
       "    </tr>\n",
       "    <tr>\n",
       "      <th>0</th>\n",
       "      <td>LightGBM Regressor</td>\n",
       "      <td>0.934002</td>\n",
       "      <td>0.93243</td>\n",
       "      <td>0.084159</td>\n",
       "      <td>0.0189056</td>\n",
       "      <td>0.137498</td>\n",
       "    </tr>\n",
       "  </tbody>\n",
       "</table>\n",
       "</div>"
      ],
      "text/plain": [
       "                Model       R^2 Adjusted R^2        MAE        MSE      RMSE\n",
       "0   XGBoost Regressor  0.934522     0.932963  0.0837601  0.0187566  0.136955\n",
       "0  LightGBM Regressor  0.934002      0.93243   0.084159  0.0189056  0.137498"
      ]
     },
     "execution_count": 43,
     "metadata": {},
     "output_type": "execute_result"
    }
   ],
   "source": [
    "df_metrics = pd.concat([xgb_metrics_sm, lgbm_metrics_sm])\n",
    "df_metrics.sort_values(by = 'RMSE', ascending = True)"
   ]
  },
  {
   "cell_type": "markdown",
   "metadata": {},
   "source": [
    "Models with full features (in Part 3 notebook) still performs better"
   ]
  }
 ],
 "metadata": {
  "kernelspec": {
   "display_name": "Python 3",
   "language": "python",
   "name": "python3"
  },
  "language_info": {
   "codemirror_mode": {
    "name": "ipython",
    "version": 3
   },
   "file_extension": ".py",
   "mimetype": "text/x-python",
   "name": "python",
   "nbconvert_exporter": "python",
   "pygments_lexer": "ipython3",
   "version": "3.8.3"
  }
 },
 "nbformat": 4,
 "nbformat_minor": 4
}
